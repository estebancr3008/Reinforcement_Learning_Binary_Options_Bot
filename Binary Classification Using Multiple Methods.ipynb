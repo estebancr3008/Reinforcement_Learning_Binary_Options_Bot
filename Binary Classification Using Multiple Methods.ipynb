{
  "cells": [
    {
      "cell_type": "markdown",
      "metadata": {},
      "source": [
        "Imports Libraries"
      ]
    },
    {
      "cell_type": "code",
      "execution_count": 79,
      "metadata": {
        "id": "ucTqR2YIM2ii"
      },
      "outputs": [],
      "source": [
        "import pandas as pd\n",
        "from IPython.display import display\n",
        "import pickle\n",
        "import tensorflow as tf\n",
        "from tensorflow import keras\n",
        "from tensorflow.keras import layers\n",
        "\n"
      ]
    },
    {
      "cell_type": "markdown",
      "metadata": {},
      "source": [
        "Loads Data Frame"
      ]
    },
    {
      "cell_type": "code",
      "execution_count": 85,
      "metadata": {
        "colab": {
          "base_uri": "https://localhost:8080/",
          "height": 455
        },
        "id": "Phec5cYZM2im",
        "outputId": "6aba5e39-26a3-4527-dc44-5ec2399a7998"
      },
      "outputs": [
        {
          "data": {
            "text/html": [
              "<div>\n",
              "<style scoped>\n",
              "    .dataframe tbody tr th:only-of-type {\n",
              "        vertical-align: middle;\n",
              "    }\n",
              "\n",
              "    .dataframe tbody tr th {\n",
              "        vertical-align: top;\n",
              "    }\n",
              "\n",
              "    .dataframe thead th {\n",
              "        text-align: right;\n",
              "    }\n",
              "</style>\n",
              "<table border=\"1\" class=\"dataframe\">\n",
              "  <thead>\n",
              "    <tr style=\"text-align: right;\">\n",
              "      <th></th>\n",
              "      <th>Open</th>\n",
              "      <th>sma7</th>\n",
              "      <th>sma25</th>\n",
              "      <th>sma99</th>\n",
              "      <th>bb_bbm</th>\n",
              "      <th>bb_bbh</th>\n",
              "      <th>bb_bbl</th>\n",
              "      <th>psar</th>\n",
              "      <th>MACD</th>\n",
              "      <th>RSI</th>\n",
              "      <th>sma40</th>\n",
              "      <th>Position</th>\n",
              "    </tr>\n",
              "  </thead>\n",
              "  <tbody>\n",
              "    <tr>\n",
              "      <th>0</th>\n",
              "      <td>1200.153076</td>\n",
              "      <td>1200.153076</td>\n",
              "      <td>1200.153076</td>\n",
              "      <td>1200.153076</td>\n",
              "      <td>0.000000</td>\n",
              "      <td>0.000000</td>\n",
              "      <td>0.000000</td>\n",
              "      <td>1204.813110</td>\n",
              "      <td>0.000000</td>\n",
              "      <td>100.000000</td>\n",
              "      <td>0.000000</td>\n",
              "      <td>1</td>\n",
              "    </tr>\n",
              "    <tr>\n",
              "      <th>1</th>\n",
              "      <td>1208.716797</td>\n",
              "      <td>1204.434937</td>\n",
              "      <td>1204.434937</td>\n",
              "      <td>1204.434937</td>\n",
              "      <td>0.000000</td>\n",
              "      <td>0.000000</td>\n",
              "      <td>0.000000</td>\n",
              "      <td>1214.011719</td>\n",
              "      <td>0.733792</td>\n",
              "      <td>100.000000</td>\n",
              "      <td>0.000000</td>\n",
              "      <td>1</td>\n",
              "    </tr>\n",
              "    <tr>\n",
              "      <th>2</th>\n",
              "      <td>1214.143066</td>\n",
              "      <td>1207.670980</td>\n",
              "      <td>1207.670980</td>\n",
              "      <td>1207.670980</td>\n",
              "      <td>0.000000</td>\n",
              "      <td>0.000000</td>\n",
              "      <td>0.000000</td>\n",
              "      <td>1204.813110</td>\n",
              "      <td>1.675682</td>\n",
              "      <td>100.000000</td>\n",
              "      <td>0.000000</td>\n",
              "      <td>1</td>\n",
              "    </tr>\n",
              "    <tr>\n",
              "      <th>3</th>\n",
              "      <td>1218.397949</td>\n",
              "      <td>1210.352722</td>\n",
              "      <td>1210.352722</td>\n",
              "      <td>1210.352722</td>\n",
              "      <td>0.000000</td>\n",
              "      <td>0.000000</td>\n",
              "      <td>0.000000</td>\n",
              "      <td>1213.272339</td>\n",
              "      <td>2.485572</td>\n",
              "      <td>100.000000</td>\n",
              "      <td>0.000000</td>\n",
              "      <td>1</td>\n",
              "    </tr>\n",
              "    <tr>\n",
              "      <th>4</th>\n",
              "      <td>1219.493652</td>\n",
              "      <td>1212.180908</td>\n",
              "      <td>1212.180908</td>\n",
              "      <td>1212.180908</td>\n",
              "      <td>0.000000</td>\n",
              "      <td>0.000000</td>\n",
              "      <td>0.000000</td>\n",
              "      <td>1213.272339</td>\n",
              "      <td>3.300964</td>\n",
              "      <td>100.000000</td>\n",
              "      <td>0.000000</td>\n",
              "      <td>0</td>\n",
              "    </tr>\n",
              "    <tr>\n",
              "      <th>...</th>\n",
              "      <td>...</td>\n",
              "      <td>...</td>\n",
              "      <td>...</td>\n",
              "      <td>...</td>\n",
              "      <td>...</td>\n",
              "      <td>...</td>\n",
              "      <td>...</td>\n",
              "      <td>...</td>\n",
              "      <td>...</td>\n",
              "      <td>...</td>\n",
              "      <td>...</td>\n",
              "      <td>...</td>\n",
              "    </tr>\n",
              "    <tr>\n",
              "      <th>1429</th>\n",
              "      <td>1704.127686</td>\n",
              "      <td>1704.300868</td>\n",
              "      <td>1679.234526</td>\n",
              "      <td>1628.717507</td>\n",
              "      <td>1683.309027</td>\n",
              "      <td>1716.664803</td>\n",
              "      <td>1649.953251</td>\n",
              "      <td>1695.433201</td>\n",
              "      <td>14.764265</td>\n",
              "      <td>63.656235</td>\n",
              "      <td>1664.581348</td>\n",
              "      <td>1</td>\n",
              "    </tr>\n",
              "    <tr>\n",
              "      <th>1430</th>\n",
              "      <td>1707.095337</td>\n",
              "      <td>1705.221209</td>\n",
              "      <td>1681.275664</td>\n",
              "      <td>1629.592560</td>\n",
              "      <td>1685.309760</td>\n",
              "      <td>1719.325668</td>\n",
              "      <td>1651.293851</td>\n",
              "      <td>1697.978255</td>\n",
              "      <td>14.876273</td>\n",
              "      <td>65.405266</td>\n",
              "      <td>1665.991867</td>\n",
              "      <td>0</td>\n",
              "    </tr>\n",
              "    <tr>\n",
              "      <th>1431</th>\n",
              "      <td>1710.730835</td>\n",
              "      <td>1705.964024</td>\n",
              "      <td>1683.723604</td>\n",
              "      <td>1630.451497</td>\n",
              "      <td>1687.384265</td>\n",
              "      <td>1722.276544</td>\n",
              "      <td>1652.491986</td>\n",
              "      <td>1710.995605</td>\n",
              "      <td>13.957447</td>\n",
              "      <td>58.763115</td>\n",
              "      <td>1666.950128</td>\n",
              "      <td>0</td>\n",
              "    </tr>\n",
              "    <tr>\n",
              "      <th>1432</th>\n",
              "      <td>1700.739380</td>\n",
              "      <td>1704.872227</td>\n",
              "      <td>1685.762300</td>\n",
              "      <td>1631.194411</td>\n",
              "      <td>1688.425751</td>\n",
              "      <td>1723.605720</td>\n",
              "      <td>1653.245781</td>\n",
              "      <td>1710.995605</td>\n",
              "      <td>12.661342</td>\n",
              "      <td>55.725764</td>\n",
              "      <td>1668.294620</td>\n",
              "      <td>1</td>\n",
              "    </tr>\n",
              "    <tr>\n",
              "      <th>1433</th>\n",
              "      <td>1695.093262</td>\n",
              "      <td>1703.441406</td>\n",
              "      <td>1686.337852</td>\n",
              "      <td>1632.009095</td>\n",
              "      <td>1689.019373</td>\n",
              "      <td>1724.228656</td>\n",
              "      <td>1653.810090</td>\n",
              "      <td>1710.319331</td>\n",
              "      <td>12.562657</td>\n",
              "      <td>61.216774</td>\n",
              "      <td>1670.516171</td>\n",
              "      <td>0</td>\n",
              "    </tr>\n",
              "  </tbody>\n",
              "</table>\n",
              "<p>1434 rows × 12 columns</p>\n",
              "</div>"
            ],
            "text/plain": [
              "             Open         sma7        sma25        sma99       bb_bbm  \\\n",
              "0     1200.153076  1200.153076  1200.153076  1200.153076     0.000000   \n",
              "1     1208.716797  1204.434937  1204.434937  1204.434937     0.000000   \n",
              "2     1214.143066  1207.670980  1207.670980  1207.670980     0.000000   \n",
              "3     1218.397949  1210.352722  1210.352722  1210.352722     0.000000   \n",
              "4     1219.493652  1212.180908  1212.180908  1212.180908     0.000000   \n",
              "...           ...          ...          ...          ...          ...   \n",
              "1429  1704.127686  1704.300868  1679.234526  1628.717507  1683.309027   \n",
              "1430  1707.095337  1705.221209  1681.275664  1629.592560  1685.309760   \n",
              "1431  1710.730835  1705.964024  1683.723604  1630.451497  1687.384265   \n",
              "1432  1700.739380  1704.872227  1685.762300  1631.194411  1688.425751   \n",
              "1433  1695.093262  1703.441406  1686.337852  1632.009095  1689.019373   \n",
              "\n",
              "           bb_bbh       bb_bbl         psar       MACD         RSI  \\\n",
              "0        0.000000     0.000000  1204.813110   0.000000  100.000000   \n",
              "1        0.000000     0.000000  1214.011719   0.733792  100.000000   \n",
              "2        0.000000     0.000000  1204.813110   1.675682  100.000000   \n",
              "3        0.000000     0.000000  1213.272339   2.485572  100.000000   \n",
              "4        0.000000     0.000000  1213.272339   3.300964  100.000000   \n",
              "...           ...          ...          ...        ...         ...   \n",
              "1429  1716.664803  1649.953251  1695.433201  14.764265   63.656235   \n",
              "1430  1719.325668  1651.293851  1697.978255  14.876273   65.405266   \n",
              "1431  1722.276544  1652.491986  1710.995605  13.957447   58.763115   \n",
              "1432  1723.605720  1653.245781  1710.995605  12.661342   55.725764   \n",
              "1433  1724.228656  1653.810090  1710.319331  12.562657   61.216774   \n",
              "\n",
              "            sma40  Position  \n",
              "0        0.000000         1  \n",
              "1        0.000000         1  \n",
              "2        0.000000         1  \n",
              "3        0.000000         1  \n",
              "4        0.000000         0  \n",
              "...           ...       ...  \n",
              "1429  1664.581348         1  \n",
              "1430  1665.991867         0  \n",
              "1431  1666.950128         0  \n",
              "1432  1668.294620         1  \n",
              "1433  1670.516171         0  \n",
              "\n",
              "[1434 rows x 12 columns]"
            ]
          },
          "execution_count": 85,
          "metadata": {},
          "output_type": "execute_result"
        }
      ],
      "source": [
        "with open(\"ETHUSD_15min_tagged.pickle\", \\\n",
        "          \"rb\") as f:\n",
        "      df \\\n",
        "      = pickle.load(f)\n",
        "\n",
        "df = df.drop(['Low','Close','High'], axis=1)\n",
        "df\n",
        "#df.drop(df.tail(1).index,inplace=True)"
      ]
    },
    {
      "cell_type": "code",
      "execution_count": 86,
      "metadata": {
        "id": "Dr93PnatM2in",
        "outputId": "0f494d71-2282-47dd-8a9b-bb92d96108b5"
      },
      "outputs": [],
      "source": [
        "df_train = df.sample(frac=0.7, random_state=0)\n",
        "df_valid = df.drop(df_train.index)\n",
        "\n",
        "max_ = df_train.max(axis=0)\n",
        "min_ = df_train.min(axis=0)\n",
        "\n",
        "\n",
        "\n",
        "df_train = (df_train - min_) / (max_ - min_)\n",
        "df_valid = (df_valid - min_) / (max_ - min_)\n",
        "\n",
        "X_train = df_train.drop('Position', axis=1)\n",
        "X_valid = df_valid.drop('Position', axis=1)\n",
        "y_train = df_train['Position']\n",
        "y_valid = df_valid['Position']\n",
        "\n"
      ]
    },
    {
      "cell_type": "markdown",
      "metadata": {},
      "source": [
        "Loads a model"
      ]
    },
    {
      "cell_type": "code",
      "execution_count": 87,
      "metadata": {},
      "outputs": [
        {
          "name": "stdout",
          "output_type": "stream",
          "text": [
            "Model: \"sequential_2\"\n",
            "_________________________________________________________________\n",
            "Layer (type)                 Output Shape              Param #   \n",
            "=================================================================\n",
            "dense_6 (Dense)              (None, 8)                 96        \n",
            "_________________________________________________________________\n",
            "dense_7 (Dense)              (None, 8)                 72        \n",
            "_________________________________________________________________\n",
            "dense_8 (Dense)              (None, 1)                 9         \n",
            "=================================================================\n",
            "Total params: 177\n",
            "Trainable params: 177\n",
            "Non-trainable params: 0\n",
            "_________________________________________________________________\n"
          ]
        }
      ],
      "source": [
        "model = tf.keras.models.load_model('Classifier_NN_hourly_v2.0')\n",
        "\n",
        "# Check its architecture\n",
        "\n",
        "model.summary()\n"
      ]
    },
    {
      "cell_type": "markdown",
      "metadata": {},
      "source": [
        "Creates a Model"
      ]
    },
    {
      "cell_type": "code",
      "execution_count": 88,
      "metadata": {
        "id": "Pygs6q2XM2io",
        "outputId": "d3bea24f-c2e8-4733-fe9b-83a5fad61265"
      },
      "outputs": [],
      "source": [
        "\n",
        "model = keras.Sequential([\n",
        "    layers.Dense(8, activation='relu', input_shape=[11]),\n",
        "    layers.Dense(8, activation='relu'),    \n",
        "    layers.Dense(1, activation='sigmoid'),\n",
        "])"
      ]
    },
    {
      "cell_type": "code",
      "execution_count": 89,
      "metadata": {},
      "outputs": [],
      "source": [
        "model.compile(\n",
        "    optimizer='adam',\n",
        "    loss='binary_crossentropy',\n",
        "    metrics=['binary_accuracy'],\n",
        ")"
      ]
    },
    {
      "cell_type": "markdown",
      "metadata": {},
      "source": [
        "Trains a model"
      ]
    },
    {
      "cell_type": "code",
      "execution_count": 90,
      "metadata": {},
      "outputs": [],
      "source": [
        "early_stopping = keras.callbacks.EarlyStopping(\n",
        "    patience=100,\n",
        "    min_delta=0.001,\n",
        "    restore_best_weights=True,\n",
        ")\n",
        "\n",
        "\n",
        "\n",
        "history = model.fit(\n",
        "    X_train, y_train,\n",
        "    validation_data=(X_valid, y_valid),\n",
        "    batch_size=64,\n",
        "    epochs=2000,\n",
        "    #callbacks=[early_stopping],\n",
        "    verbose=0, # hide the output because we have so many epochs\n",
        ")\n"
      ]
    },
    {
      "cell_type": "code",
      "execution_count": 91,
      "metadata": {},
      "outputs": [
        {
          "name": "stdout",
          "output_type": "stream",
          "text": [
            "Test loss: 0.5982546806335449\n",
            "Test accuracy: 0.6674418449401855\n"
          ]
        }
      ],
      "source": [
        "score = model.evaluate(X_valid, y_valid, verbose=0)\n",
        "print('Test loss:', score[0])\n",
        "print('Test accuracy:', score[1])\n"
      ]
    },
    {
      "cell_type": "code",
      "execution_count": 92,
      "metadata": {},
      "outputs": [
        {
          "name": "stdout",
          "output_type": "stream",
          "text": [
            "Best Validation Loss: 0.5959\n",
            "Best Validation Accuracy: 0.6977\n"
          ]
        },
        {
          "data": {
            "image/png": "[encoded data removed]",
            "text/plain": [
              "<Figure size 432x288 with 1 Axes>"
            ]
          },
          "metadata": {
            "needs_background": "light"
          },
          "output_type": "display_data"
        },
        {
          "data": {
            "image/png": "[encoded data removed]",
            "text/plain": [
              "<Figure size 432x288 with 1 Axes>"
            ]
          },
          "metadata": {
            "needs_background": "light"
          },
          "output_type": "display_data"
        }
      ],
      "source": [
        "history_df = pd.DataFrame(history.history)\n",
        "# Start the plot at epoch 5\n",
        "history_df.loc[5:, ['loss', 'val_loss']].plot()\n",
        "history_df.loc[5:, ['binary_accuracy', 'val_binary_accuracy']].plot()\n",
        "\n",
        "print((\"Best Validation Loss: {:0.4f}\" +\\\n",
        "      \"\\nBest Validation Accuracy: {:0.4f}\")\\\n",
        "      .format(history_df['val_loss'].min(), \n",
        "              history_df['val_binary_accuracy'].max()))"
      ]
    },
    {
      "cell_type": "code",
      "execution_count": 93,
      "metadata": {},
      "outputs": [
        {
          "name": "stdout",
          "output_type": "stream",
          "text": [
            "WARNING:tensorflow:FOR KERAS USERS: The object that you are saving contains one or more Keras models or layers. If you are loading the SavedModel with `tf.keras.models.load_model`, continue reading (otherwise, you may ignore the following instructions). Please change your code to save with `tf.keras.models.save_model` or `model.save`, and confirm that the file \"keras.metadata\" exists in the export directory. In the future, Keras will only load the SavedModels that have this file. In other words, `tf.saved_model.save` will no longer write SavedModels that can be recovered as Keras models (this will apply in TF 2.5).\n",
            "\n",
            "FOR DEVS: If you are overwriting _tracking_metadata in your class, this property has been used to save metadata in the SavedModel. The metadta field will be deprecated soon, so please move the metadata to a different file.\n",
            "INFO:tensorflow:Assets written to: Classifier_15min_v1.0/assets\n"
          ]
        },
        {
          "name": "stderr",
          "output_type": "stream",
          "text": [
            "/Users/esteban/miniforge3/envs/tf_m1/lib/python3.8/site-packages/tensorflow/python/keras/engine/training.py:2325: UserWarning: `Model.state_updates` will be removed in a future version. This property should not be used in TensorFlow 2.0, as `updates` are applied automatically.\n",
            "  warnings.warn('`Model.state_updates` will be removed in a future version. '\n",
            "/Users/esteban/miniforge3/envs/tf_m1/lib/python3.8/site-packages/tensorflow/python/keras/engine/base_layer.py:1397: UserWarning: `layer.updates` will be removed in a future version. This property should not be used in TensorFlow 2.0, as `updates` are applied automatically.\n",
            "  warnings.warn('`layer.updates` will be removed in a future version. '\n"
          ]
        }
      ],
      "source": [
        "model.save('Classifier_15min_v1.0')"
      ]
    },
    {
      "cell_type": "code",
      "execution_count": 94,
      "metadata": {},
      "outputs": [],
      "source": [
        "import sklearn.naive_bayes\n",
        "import sklearn.feature_extraction\n",
        "import sklearn.preprocessing\n",
        "import sklearn.linear_model\n",
        "import sklearn.metrics\n",
        "import time\n",
        "import sklearn.neighbors\n",
        "import sklearn.ensemble\n",
        "import sklearn.metrics\n",
        "#pip install xgboost\n",
        "import xgboost"
      ]
    },
    {
      "cell_type": "code",
      "execution_count": 95,
      "metadata": {},
      "outputs": [
        {
          "name": "stdout",
          "output_type": "stream",
          "text": [
            "Confusion Matrix:\n",
            "[[ 77 119]\n",
            " [ 40 194]]\n",
            "Accuracy:   0.630\n",
            "Precision:  0.637\n",
            "Recall:     0.630\n"
          ]
        }
      ],
      "source": [
        "# Creates a model\n",
        "\n",
        "# Create naive bayes classifier\n",
        "naive_bayes = sklearn.naive_bayes.MultinomialNB()\n",
        "\n",
        "# Create a logistic regression classifier\n",
        "logistic = sklearn.linear_model.LogisticRegression(solver='newton-cg',\n",
        "                                                   tol=1e-2, max_iter=10000)\n",
        "\n",
        "#Create a xgboost classifier\n",
        "#xgboost = xgboost.XGBRFClassifier(alpha=1, max_depth=30)\n",
        "\n",
        "# Create a k-Nearest neighbors classifier\n",
        "kNN = sklearn.neighbors.KNeighborsClassifier(n_neighbors=150)\n",
        "\n",
        "# Create a Random Forest classifier\n",
        "randforest = sklearn.ensemble.RandomForestClassifier(n_estimators=1000,\n",
        "    min_samples_leaf=0.003)\n",
        "\n",
        "\n",
        "# Create a voting ensemble of classifiers\n",
        "model = sklearn.ensemble.VotingClassifier(\n",
        "    estimators=[('logistic', logistic),\n",
        "                #('xgboost', xgboost),\n",
        "                #('kNN', kNN),\n",
        "                ('naive_bayes',naive_bayes),\n",
        "                ('randforest', randforest),\n",
        "                ],voting='soft')\n",
        "\n",
        "\n",
        "# Train it with the training data and labels\n",
        "model.fit(X_train, y_train)\n",
        "\n",
        "# Predict\n",
        "pred = model.predict(X_valid)\n",
        "\n",
        "\n",
        "# Metrics\n",
        "#\n",
        "\n",
        "# Confusion matrix\n",
        "cmatrix = sklearn.metrics.confusion_matrix(y_valid, pred)\n",
        "print(\"Confusion Matrix:\")\n",
        "print(cmatrix)\n",
        "\n",
        "# Accuracy, precision & recall\n",
        "print(\"Accuracy:   {:.3f}\".format(sklearn.metrics.accuracy_score(y_valid, pred)))\n",
        "print(\"Precision:  {:.3f}\".format(sklearn.metrics.precision_score(y_valid, pred, average='weighted')))\n",
        "print(\"Recall:     {:.3f}\".format(sklearn.metrics.recall_score(y_valid, pred, average='weighted')))\n",
        "\n"
      ]
    }
  ],
  "metadata": {
    "colab": {
      "name": "Binary Classification Using Multiple Methods.ipynb",
      "provenance": []
    },
    "kernelspec": {
      "display_name": "Python 3.8.10 ('tf_m1')",
      "language": "python",
      "name": "python3"
    },
    "language_info": {
      "codemirror_mode": {
        "name": "ipython",
        "version": 3
      },
      "file_extension": ".py",
      "mimetype": "text/x-python",
      "name": "python",
      "nbconvert_exporter": "python",
      "pygments_lexer": "ipython3",
      "version": "3.8.10"
    },
    "orig_nbformat": 4,
    "vscode": {
      "interpreter": {
        "hash": "cf0f1cbac46165812aed048b574b8410f2dded7dea4094f52ec7646d4befcd98"
      }
    }
  },
  "nbformat": 4,
  "nbformat_minor": 0
}
