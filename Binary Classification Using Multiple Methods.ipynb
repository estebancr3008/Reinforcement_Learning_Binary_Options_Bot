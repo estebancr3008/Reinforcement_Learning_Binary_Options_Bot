{
  "cells": [
    {
      "cell_type": "markdown",
      "metadata": {},
      "source": [
        "Imports Libraries"
      ]
    },
    {
      "cell_type": "code",
      "execution_count": 141,
      "metadata": {
        "id": "ucTqR2YIM2ii"
      },
      "outputs": [],
      "source": [
        "import pandas as pd\n",
        "from IPython.display import display\n",
        "import pickle\n",
        "import tensorflow as tf\n",
        "from tensorflow import keras\n",
        "from tensorflow.keras import layers\n",
        "\n"
      ]
    },
    {
      "cell_type": "markdown",
      "metadata": {},
      "source": [
        "Loads Data Frame"
      ]
    },
    {
      "cell_type": "code",
      "execution_count": 163,
      "metadata": {
        "colab": {
          "base_uri": "https://localhost:8080/",
          "height": 455
        },
        "id": "Phec5cYZM2im",
        "outputId": "6aba5e39-26a3-4527-dc44-5ec2399a7998"
      },
      "outputs": [
        {
          "data": {
            "text/html": [
              "<div>\n",
              "<style scoped>\n",
              "    .dataframe tbody tr th:only-of-type {\n",
              "        vertical-align: middle;\n",
              "    }\n",
              "\n",
              "    .dataframe tbody tr th {\n",
              "        vertical-align: top;\n",
              "    }\n",
              "\n",
              "    .dataframe thead th {\n",
              "        text-align: right;\n",
              "    }\n",
              "</style>\n",
              "<table border=\"1\" class=\"dataframe\">\n",
              "  <thead>\n",
              "    <tr style=\"text-align: right;\">\n",
              "      <th></th>\n",
              "      <th>Open</th>\n",
              "      <th>sma7</th>\n",
              "      <th>sma25</th>\n",
              "      <th>sma99</th>\n",
              "      <th>bb_bbm</th>\n",
              "      <th>bb_bbh</th>\n",
              "      <th>bb_bbl</th>\n",
              "      <th>psar</th>\n",
              "      <th>MACD</th>\n",
              "      <th>RSI</th>\n",
              "      <th>sma40</th>\n",
              "      <th>Position</th>\n",
              "    </tr>\n",
              "  </thead>\n",
              "  <tbody>\n",
              "    <tr>\n",
              "      <th>0</th>\n",
              "      <td>465.864014</td>\n",
              "      <td>465.864014</td>\n",
              "      <td>465.864014</td>\n",
              "      <td>465.864014</td>\n",
              "      <td>0.000000</td>\n",
              "      <td>0.000000</td>\n",
              "      <td>0.000000</td>\n",
              "      <td>457.334015</td>\n",
              "      <td>0.000000</td>\n",
              "      <td>100.000000</td>\n",
              "      <td>0.000000</td>\n",
              "      <td>0</td>\n",
              "    </tr>\n",
              "    <tr>\n",
              "      <th>1</th>\n",
              "      <td>456.859985</td>\n",
              "      <td>461.362000</td>\n",
              "      <td>461.362000</td>\n",
              "      <td>461.362000</td>\n",
              "      <td>0.000000</td>\n",
              "      <td>0.000000</td>\n",
              "      <td>0.000000</td>\n",
              "      <td>424.440002</td>\n",
              "      <td>-2.624024</td>\n",
              "      <td>0.000000</td>\n",
              "      <td>0.000000</td>\n",
              "      <td>0</td>\n",
              "    </tr>\n",
              "    <tr>\n",
              "      <th>2</th>\n",
              "      <td>424.102997</td>\n",
              "      <td>448.942332</td>\n",
              "      <td>448.942332</td>\n",
              "      <td>448.942332</td>\n",
              "      <td>0.000000</td>\n",
              "      <td>0.000000</td>\n",
              "      <td>0.000000</td>\n",
              "      <td>457.334015</td>\n",
              "      <td>-7.014744</td>\n",
              "      <td>0.000000</td>\n",
              "      <td>0.000000</td>\n",
              "      <td>0</td>\n",
              "    </tr>\n",
              "    <tr>\n",
              "      <th>3</th>\n",
              "      <td>394.673004</td>\n",
              "      <td>435.375000</td>\n",
              "      <td>435.375000</td>\n",
              "      <td>435.375000</td>\n",
              "      <td>0.000000</td>\n",
              "      <td>0.000000</td>\n",
              "      <td>0.000000</td>\n",
              "      <td>455.877975</td>\n",
              "      <td>-9.249402</td>\n",
              "      <td>20.155072</td>\n",
              "      <td>0.000000</td>\n",
              "      <td>1</td>\n",
              "    </tr>\n",
              "    <tr>\n",
              "      <th>4</th>\n",
              "      <td>408.084991</td>\n",
              "      <td>429.916998</td>\n",
              "      <td>429.916998</td>\n",
              "      <td>429.916998</td>\n",
              "      <td>0.000000</td>\n",
              "      <td>0.000000</td>\n",
              "      <td>0.000000</td>\n",
              "      <td>454.451056</td>\n",
              "      <td>-11.699137</td>\n",
              "      <td>17.448333</td>\n",
              "      <td>0.000000</td>\n",
              "      <td>0</td>\n",
              "    </tr>\n",
              "    <tr>\n",
              "      <th>...</th>\n",
              "      <td>...</td>\n",
              "      <td>...</td>\n",
              "      <td>...</td>\n",
              "      <td>...</td>\n",
              "      <td>...</td>\n",
              "      <td>...</td>\n",
              "      <td>...</td>\n",
              "      <td>...</td>\n",
              "      <td>...</td>\n",
              "      <td>...</td>\n",
              "      <td>...</td>\n",
              "      <td>...</td>\n",
              "    </tr>\n",
              "    <tr>\n",
              "      <th>2896</th>\n",
              "      <td>21531.462891</td>\n",
              "      <td>22589.500279</td>\n",
              "      <td>23279.442266</td>\n",
              "      <td>24184.880840</td>\n",
              "      <td>23202.340137</td>\n",
              "      <td>25201.415044</td>\n",
              "      <td>21203.265229</td>\n",
              "      <td>23637.872178</td>\n",
              "      <td>-277.320737</td>\n",
              "      <td>38.384527</td>\n",
              "      <td>22809.443652</td>\n",
              "      <td>0</td>\n",
              "    </tr>\n",
              "    <tr>\n",
              "      <th>2897</th>\n",
              "      <td>21401.044922</td>\n",
              "      <td>22200.201451</td>\n",
              "      <td>23181.675547</td>\n",
              "      <td>24084.847202</td>\n",
              "      <td>23123.327246</td>\n",
              "      <td>25270.532341</td>\n",
              "      <td>20976.122151</td>\n",
              "      <td>23415.380841</td>\n",
              "      <td>-334.667918</td>\n",
              "      <td>39.690429</td>\n",
              "      <td>22833.397852</td>\n",
              "      <td>0</td>\n",
              "    </tr>\n",
              "    <tr>\n",
              "      <th>2898</th>\n",
              "      <td>21526.455078</td>\n",
              "      <td>21863.792690</td>\n",
              "      <td>23090.861016</td>\n",
              "      <td>24000.645656</td>\n",
              "      <td>23057.239258</td>\n",
              "      <td>25312.872652</td>\n",
              "      <td>20801.605863</td>\n",
              "      <td>23210.688812</td>\n",
              "      <td>-386.399306</td>\n",
              "      <td>38.778672</td>\n",
              "      <td>22847.365137</td>\n",
              "      <td>1</td>\n",
              "    </tr>\n",
              "    <tr>\n",
              "      <th>2899</th>\n",
              "      <td>21395.458984</td>\n",
              "      <td>21585.852679</td>\n",
              "      <td>23000.596562</td>\n",
              "      <td>23909.443438</td>\n",
              "      <td>22995.670508</td>\n",
              "      <td>25359.559710</td>\n",
              "      <td>20631.781305</td>\n",
              "      <td>23022.372144</td>\n",
              "      <td>-406.102328</td>\n",
              "      <td>41.035597</td>\n",
              "      <td>22857.629834</td>\n",
              "      <td>0</td>\n",
              "    </tr>\n",
              "    <tr>\n",
              "      <th>2900</th>\n",
              "      <td>21596.085938</td>\n",
              "      <td>21354.820312</td>\n",
              "      <td>22930.971250</td>\n",
              "      <td>23837.481080</td>\n",
              "      <td>22910.903613</td>\n",
              "      <td>25346.782068</td>\n",
              "      <td>20475.025159</td>\n",
              "      <td>22849.120810</td>\n",
              "      <td>-523.876389</td>\n",
              "      <td>32.605120</td>\n",
              "      <td>22844.646729</td>\n",
              "      <td>0</td>\n",
              "    </tr>\n",
              "  </tbody>\n",
              "</table>\n",
              "<p>2901 rows × 12 columns</p>\n",
              "</div>"
            ],
            "text/plain": [
              "              Open          sma7         sma25         sma99        bb_bbm  \\\n",
              "0       465.864014    465.864014    465.864014    465.864014      0.000000   \n",
              "1       456.859985    461.362000    461.362000    461.362000      0.000000   \n",
              "2       424.102997    448.942332    448.942332    448.942332      0.000000   \n",
              "3       394.673004    435.375000    435.375000    435.375000      0.000000   \n",
              "4       408.084991    429.916998    429.916998    429.916998      0.000000   \n",
              "...            ...           ...           ...           ...           ...   \n",
              "2896  21531.462891  22589.500279  23279.442266  24184.880840  23202.340137   \n",
              "2897  21401.044922  22200.201451  23181.675547  24084.847202  23123.327246   \n",
              "2898  21526.455078  21863.792690  23090.861016  24000.645656  23057.239258   \n",
              "2899  21395.458984  21585.852679  23000.596562  23909.443438  22995.670508   \n",
              "2900  21596.085938  21354.820312  22930.971250  23837.481080  22910.903613   \n",
              "\n",
              "            bb_bbh        bb_bbl          psar        MACD         RSI  \\\n",
              "0         0.000000      0.000000    457.334015    0.000000  100.000000   \n",
              "1         0.000000      0.000000    424.440002   -2.624024    0.000000   \n",
              "2         0.000000      0.000000    457.334015   -7.014744    0.000000   \n",
              "3         0.000000      0.000000    455.877975   -9.249402   20.155072   \n",
              "4         0.000000      0.000000    454.451056  -11.699137   17.448333   \n",
              "...            ...           ...           ...         ...         ...   \n",
              "2896  25201.415044  21203.265229  23637.872178 -277.320737   38.384527   \n",
              "2897  25270.532341  20976.122151  23415.380841 -334.667918   39.690429   \n",
              "2898  25312.872652  20801.605863  23210.688812 -386.399306   38.778672   \n",
              "2899  25359.559710  20631.781305  23022.372144 -406.102328   41.035597   \n",
              "2900  25346.782068  20475.025159  22849.120810 -523.876389   32.605120   \n",
              "\n",
              "             sma40  Position  \n",
              "0         0.000000         0  \n",
              "1         0.000000         0  \n",
              "2         0.000000         0  \n",
              "3         0.000000         1  \n",
              "4         0.000000         0  \n",
              "...            ...       ...  \n",
              "2896  22809.443652         0  \n",
              "2897  22833.397852         0  \n",
              "2898  22847.365137         1  \n",
              "2899  22857.629834         0  \n",
              "2900  22844.646729         0  \n",
              "\n",
              "[2901 rows x 12 columns]"
            ]
          },
          "execution_count": 163,
          "metadata": {},
          "output_type": "execute_result"
        }
      ],
      "source": [
        "with open(\"BTCUSD_10y_tagged.pickle\", \\\n",
        "          \"rb\") as f:\n",
        "      df \\\n",
        "      = pickle.load(f)\n",
        "\n",
        "df = df.drop(['Volume','Low','Close','High'], axis=1)\n",
        "df\n",
        "#df.drop(df.tail(1).index,inplace=True)"
      ]
    },
    {
      "cell_type": "code",
      "execution_count": 166,
      "metadata": {
        "id": "Dr93PnatM2in",
        "outputId": "0f494d71-2282-47dd-8a9b-bb92d96108b5"
      },
      "outputs": [],
      "source": [
        "df_train = df.sample(frac=0.7, random_state=0)\n",
        "df_valid = df.drop(df_train.index)\n",
        "\n",
        "max_ = df_train.max(axis=0)\n",
        "min_ = df_train.min(axis=0)\n",
        "\n",
        "\n",
        "\n",
        "df_train = (df_train - min_) / (max_ - min_)\n",
        "df_valid = (df_valid - min_) / (max_ - min_)\n",
        "\n",
        "X_train = df_train.drop('Position', axis=1)\n",
        "X_valid = df_valid.drop('Position', axis=1)\n",
        "y_train = df_train['Position']\n",
        "y_valid = df_valid['Position']\n",
        "\n"
      ]
    },
    {
      "cell_type": "markdown",
      "metadata": {},
      "source": [
        "Loads a model"
      ]
    },
    {
      "cell_type": "code",
      "execution_count": 164,
      "metadata": {},
      "outputs": [
        {
          "name": "stdout",
          "output_type": "stream",
          "text": [
            "Model: \"sequential_2\"\n",
            "_________________________________________________________________\n",
            "Layer (type)                 Output Shape              Param #   \n",
            "=================================================================\n",
            "dense_6 (Dense)              (None, 8)                 96        \n",
            "_________________________________________________________________\n",
            "dense_7 (Dense)              (None, 8)                 72        \n",
            "_________________________________________________________________\n",
            "dense_8 (Dense)              (None, 1)                 9         \n",
            "=================================================================\n",
            "Total params: 177\n",
            "Trainable params: 177\n",
            "Non-trainable params: 0\n",
            "_________________________________________________________________\n"
          ]
        }
      ],
      "source": [
        "model = tf.keras.models.load_model('Classifier_NN_hourly_v2.0')\n",
        "\n",
        "# Check its architecture\n",
        "\n",
        "model.summary()\n"
      ]
    },
    {
      "cell_type": "markdown",
      "metadata": {},
      "source": [
        "Creates a Model"
      ]
    },
    {
      "cell_type": "code",
      "execution_count": 168,
      "metadata": {
        "id": "Pygs6q2XM2io",
        "outputId": "d3bea24f-c2e8-4733-fe9b-83a5fad61265"
      },
      "outputs": [],
      "source": [
        "\n",
        "model = keras.Sequential([\n",
        "    layers.Dense(8, activation='relu', input_shape=[11]),\n",
        "    layers.Dense(8, activation='relu'),    \n",
        "    layers.Dense(1, activation='sigmoid'),\n",
        "])"
      ]
    },
    {
      "cell_type": "code",
      "execution_count": 169,
      "metadata": {},
      "outputs": [],
      "source": [
        "model.compile(\n",
        "    optimizer='adam',\n",
        "    loss='binary_crossentropy',\n",
        "    metrics=['binary_accuracy'],\n",
        ")"
      ]
    },
    {
      "cell_type": "markdown",
      "metadata": {},
      "source": [
        "Trains a model"
      ]
    },
    {
      "cell_type": "code",
      "execution_count": 170,
      "metadata": {},
      "outputs": [],
      "source": [
        "early_stopping = keras.callbacks.EarlyStopping(\n",
        "    patience=100,\n",
        "    min_delta=0.001,\n",
        "    restore_best_weights=True,\n",
        ")\n",
        "\n",
        "\n",
        "\n",
        "history = model.fit(\n",
        "    X_train, y_train,\n",
        "    validation_data=(X_valid, y_valid),\n",
        "    batch_size=64,\n",
        "    epochs=2000,\n",
        "    #callbacks=[early_stopping],\n",
        "    verbose=0, # hide the output because we have so many epochs\n",
        ")\n"
      ]
    },
    {
      "cell_type": "code",
      "execution_count": 171,
      "metadata": {},
      "outputs": [
        {
          "name": "stdout",
          "output_type": "stream",
          "text": [
            "Test loss: 0.6290078163146973\n",
            "Test accuracy: 0.6609195470809937\n"
          ]
        }
      ],
      "source": [
        "score = model.evaluate(X_valid, y_valid, verbose=0)\n",
        "print('Test loss:', score[0])\n",
        "print('Test accuracy:', score[1])\n"
      ]
    },
    {
      "cell_type": "code",
      "execution_count": 172,
      "metadata": {},
      "outputs": [
        {
          "name": "stdout",
          "output_type": "stream",
          "text": [
            "Best Validation Loss: 0.6263\n",
            "Best Validation Accuracy: 0.6736\n"
          ]
        },
        {
          "data": {
            "image/png": "[encoded data removed]",
            "text/plain": [
              "<Figure size 432x288 with 1 Axes>"
            ]
          },
          "metadata": {
            "needs_background": "light"
          },
          "output_type": "display_data"
        },
        {
          "data": {
            "image/png": "[encoded data removed]",
            "text/plain": [
              "<Figure size 432x288 with 1 Axes>"
            ]
          },
          "metadata": {
            "needs_background": "light"
          },
          "output_type": "display_data"
        }
      ],
      "source": [
        "history_df = pd.DataFrame(history.history)\n",
        "# Start the plot at epoch 5\n",
        "history_df.loc[5:, ['loss', 'val_loss']].plot()\n",
        "history_df.loc[5:, ['binary_accuracy', 'val_binary_accuracy']].plot()\n",
        "\n",
        "print((\"Best Validation Loss: {:0.4f}\" +\\\n",
        "      \"\\nBest Validation Accuracy: {:0.4f}\")\\\n",
        "      .format(history_df['val_loss'].min(), \n",
        "              history_df['val_binary_accuracy'].max()))"
      ]
    },
    {
      "cell_type": "code",
      "execution_count": 173,
      "metadata": {},
      "outputs": [
        {
          "name": "stdout",
          "output_type": "stream",
          "text": [
            "WARNING:tensorflow:FOR KERAS USERS: The object that you are saving contains one or more Keras models or layers. If you are loading the SavedModel with `tf.keras.models.load_model`, continue reading (otherwise, you may ignore the following instructions). Please change your code to save with `tf.keras.models.save_model` or `model.save`, and confirm that the file \"keras.metadata\" exists in the export directory. In the future, Keras will only load the SavedModels that have this file. In other words, `tf.saved_model.save` will no longer write SavedModels that can be recovered as Keras models (this will apply in TF 2.5).\n",
            "\n",
            "FOR DEVS: If you are overwriting _tracking_metadata in your class, this property has been used to save metadata in the SavedModel. The metadta field will be deprecated soon, so please move the metadata to a different file.\n",
            "INFO:tensorflow:Assets written to: Classifier_NN_BTC_daily_v1.0/assets\n"
          ]
        },
        {
          "name": "stderr",
          "output_type": "stream",
          "text": [
            "/Users/esteban/miniforge3/envs/tf_m1/lib/python3.8/site-packages/tensorflow/python/keras/engine/training.py:2325: UserWarning: `Model.state_updates` will be removed in a future version. This property should not be used in TensorFlow 2.0, as `updates` are applied automatically.\n",
            "  warnings.warn('`Model.state_updates` will be removed in a future version. '\n",
            "/Users/esteban/miniforge3/envs/tf_m1/lib/python3.8/site-packages/tensorflow/python/keras/engine/base_layer.py:1397: UserWarning: `layer.updates` will be removed in a future version. This property should not be used in TensorFlow 2.0, as `updates` are applied automatically.\n",
            "  warnings.warn('`layer.updates` will be removed in a future version. '\n"
          ]
        }
      ],
      "source": [
        "model.save('Classifier_NN_BTC_daily_v1.0')"
      ]
    },
    {
      "cell_type": "code",
      "execution_count": 128,
      "metadata": {},
      "outputs": [],
      "source": [
        "import sklearn.naive_bayes\n",
        "import sklearn.feature_extraction\n",
        "import sklearn.preprocessing\n",
        "import sklearn.linear_model\n",
        "import sklearn.metrics\n",
        "import time\n",
        "import sklearn.neighbors\n",
        "import sklearn.ensemble\n",
        "import sklearn.metrics\n",
        "#pip install xgboost\n",
        "import xgboost"
      ]
    },
    {
      "cell_type": "code",
      "execution_count": 129,
      "metadata": {},
      "outputs": [
        {
          "name": "stdout",
          "output_type": "stream",
          "text": [
            "Confusion Matrix:\n",
            "[[193 196]\n",
            " [138 349]]\n",
            "Accuracy:   0.619\n",
            "Precision:  0.615\n",
            "Recall:     0.619\n"
          ]
        }
      ],
      "source": [
        "# Creates a model\n",
        "\n",
        "# Create naive bayes classifier\n",
        "naive_bayes = sklearn.naive_bayes.MultinomialNB()\n",
        "\n",
        "# Create a logistic regression classifier\n",
        "logistic = sklearn.linear_model.LogisticRegression(solver='newton-cg',\n",
        "                                                   tol=1e-2, max_iter=10000)\n",
        "\n",
        "#Create a xgboost classifier\n",
        "#xgboost = xgboost.XGBRFClassifier(alpha=1, max_depth=30)\n",
        "\n",
        "# Create a k-Nearest neighbors classifier\n",
        "kNN = sklearn.neighbors.KNeighborsClassifier(n_neighbors=150)\n",
        "\n",
        "# Create a Random Forest classifier\n",
        "randforest = sklearn.ensemble.RandomForestClassifier(n_estimators=1000,\n",
        "    min_samples_leaf=0.003)\n",
        "\n",
        "\n",
        "# Create a voting ensemble of classifiers\n",
        "model = sklearn.ensemble.VotingClassifier(\n",
        "    estimators=[('logistic', logistic),\n",
        "                #('xgboost', xgboost),\n",
        "                #('kNN', kNN),\n",
        "                ('naive_bayes',naive_bayes),\n",
        "                ('randforest', randforest),\n",
        "                ],voting='soft')\n",
        "\n",
        "\n",
        "# Train it with the training data and labels\n",
        "model.fit(X_train, y_train)\n",
        "\n",
        "# Predict\n",
        "pred = model.predict(X_valid)\n",
        "\n",
        "\n",
        "# Metrics\n",
        "#\n",
        "\n",
        "# Confusion matrix\n",
        "cmatrix = sklearn.metrics.confusion_matrix(y_valid, pred)\n",
        "print(\"Confusion Matrix:\")\n",
        "print(cmatrix)\n",
        "\n",
        "# Accuracy, precision & recall\n",
        "print(\"Accuracy:   {:.3f}\".format(sklearn.metrics.accuracy_score(y_valid, pred)))\n",
        "print(\"Precision:  {:.3f}\".format(sklearn.metrics.precision_score(y_valid, pred, average='weighted')))\n",
        "print(\"Recall:     {:.3f}\".format(sklearn.metrics.recall_score(y_valid, pred, average='weighted')))\n",
        "\n"
      ]
    }
  ],
  "metadata": {
    "colab": {
      "name": "Binary Classification Using Multiple Methods.ipynb",
      "provenance": []
    },
    "kernelspec": {
      "display_name": "Python 3.8.10 ('tf_m1')",
      "language": "python",
      "name": "python3"
    },
    "language_info": {
      "codemirror_mode": {
        "name": "ipython",
        "version": 3
      },
      "file_extension": ".py",
      "mimetype": "text/x-python",
      "name": "python",
      "nbconvert_exporter": "python",
      "pygments_lexer": "ipython3",
      "version": "3.8.10"
    },
    "orig_nbformat": 4,
    "vscode": {
      "interpreter": {
        "hash": "cf0f1cbac46165812aed048b574b8410f2dded7dea4094f52ec7646d4befcd98"
      }
    }
  },
  "nbformat": 4,
  "nbformat_minor": 0
}
